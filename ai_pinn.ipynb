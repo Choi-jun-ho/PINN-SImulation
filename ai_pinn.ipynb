{
 "cells": [
  {
   "cell_type": "code",
   "execution_count": null,
   "metadata": {},
   "outputs": [],
   "source": [
    "import deepxde as dde\n",
    "import numpy as np\n",
    "import matplotlib.pyplot as plt\n",
    "import pandas as pd\n",
    "import h5py\n",
    "%matplotlib inline\n",
    "from tqdm import tqdm\n",
    "\n",
    "data_kind = {1:\"apartment_multi\", 2:\"apartment_room\"}\n",
    "value_kind = {1: \"CARBON MONOXIDE\", 2: \"CARBON DIOXIDE\", 3: \"OXYGEN\", 4: \"TEMPERATURE\", 5:\"VELOCITY\"}"
   ]
  },
  {
   "cell_type": "markdown",
   "metadata": {},
   "source": [
    "# Data Processing"
   ]
  },
  {
   "cell_type": "markdown",
   "metadata": {},
   "source": [
    "## Simulation Data"
   ]
  },
  {
   "cell_type": "markdown",
   "metadata": {},
   "source": [
    "### Data Saved"
   ]
  },
  {
   "cell_type": "markdown",
   "metadata": {},
   "source": [
    "1  CARBON MONOXIDE VOLUME FRACTION\n",
    "\n",
    "2  CARBON DIOXIDE VOLUME FRACTION\n",
    " \n",
    "3  OXYGEN VOLUME FRACTION\n",
    "\n",
    "4  TEMPERATURE\n",
    "\n",
    "5  VELOCITY\n",
    "\n",
    "6  U-VELOCITY\n",
    "\n",
    "7  V-VELOCITY\n",
    "\n",
    "8  W-VELOCITY"
   ]
  },
  {
   "cell_type": "code",
   "execution_count": null,
   "metadata": {},
   "outputs": [],
   "source": [
    "mesh_num = 5\n",
    "\n",
    "temp_data = []\n",
    "data = None\n",
    "\n",
    "data_kind_idx = 2\n",
    "value_kind_idx = 3\n",
    "\n",
    "for meshIDX in range(1, mesh_num+1):\n",
    "    print(\"meshIDX: \", meshIDX)\n",
    "    mat_file_name = \"./{}/data_set_mesh{}_kind{}.mat\".format(data_kind[data_kind_idx], meshIDX, value_kind_idx)\n",
    "    print(\"mat_file_name: \", mat_file_name)\n",
    "\n",
    "    with h5py.File(mat_file_name, 'r') as f:\n",
    "        print(\"Keys: %s\" % f.keys())\n",
    "        \n",
    "        # Get the data\n",
    "        data = list(f['temp'])\n",
    "        data = np.array(data)\n",
    "\n",
    "        temp_data.append(data)\n",
    "\n",
    "for i in range(5):\n",
    "    temp_data[i] = np.flip(temp_data[i], axis=1)\n",
    "    print(\"temp_data[\",i,\"].shape: \", temp_data[i].shape)\n",
    "\n",
    "temp_data[0] = np.concatenate((temp_data[0], temp_data[1]), axis=3)\n",
    "print(\"temp_data[0].shape: \", temp_data[0].shape)\n",
    "temp_data[1] = None\n",
    "temp_data[2] = np.concatenate((temp_data[2], temp_data[4], temp_data[3]), axis=3)\n",
    "print(\"temp_data[2].shape: \", temp_data[2].shape)\n",
    "temp_data[3] = None\n",
    "temp_data[4] = None\n",
    "temp_data[2] = np.delete(temp_data[2], temp_data[0].shape[3], axis=3)\n",
    "print(\"temp_data[2].shape: \", temp_data[2].shape)\n",
    "data = np.concatenate((temp_data[2], temp_data[0]), axis=2)\n",
    "print(\"data.shape: \", data.shape)\n",
    "temp_data[0] = None\n",
    "temp_data[2] = None\n",
    "temp_data = None\n",
    "data = np.flip(data, axis=0)\n",
    "\n",
    "np.save(data_kind[data_kind_idx]+\"_\"+value_kind[value_kind_idx], data)\n",
    "print(\"data saved\")"
   ]
  },
  {
   "cell_type": "markdown",
   "metadata": {},
   "source": [
    "### Data Load"
   ]
  },
  {
   "cell_type": "code",
   "execution_count": null,
   "metadata": {},
   "outputs": [],
   "source": [
    "data_kind = {1:\"apartment_multi\", 2:\"apartment_room\"}\n",
    "value_kind = {1: \"CARBON MONOXIDE\", 2: \"CARBON DIOXIDE\", 3: \"OXYGEN\", 4: \"TEMPERATURE\", 5:\"VELOCITY\"}\n",
    "\n",
    "data_kind_idx = 1\n",
    "value_kind_idx = 1\n",
    "\n",
    "data = np.load(data_kind[data_kind_idx]+\"_\"+value_kind[value_kind_idx])\n",
    "visualize_slices(data[9000])"
   ]
  }
 ],
 "metadata": {
  "kernelspec": {
   "display_name": "pytorch",
   "language": "python",
   "name": "python3"
  },
  "language_info": {
   "codemirror_mode": {
    "name": "ipython",
    "version": 3
   },
   "file_extension": ".py",
   "mimetype": "text/x-python",
   "name": "python",
   "nbconvert_exporter": "python",
   "pygments_lexer": "ipython3",
   "version": "3.8.18"
  }
 },
 "nbformat": 4,
 "nbformat_minor": 2
}
